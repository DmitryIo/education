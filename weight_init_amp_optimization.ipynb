{
  "nbformat": 4,
  "nbformat_minor": 0,
  "metadata": {
    "kernelspec": {
      "display_name": "Python 3",
      "language": "python",
      "name": "python3"
    },
    "language_info": {
      "codemirror_mode": {
        "name": "ipython",
        "version": 3
      },
      "file_extension": ".py",
      "mimetype": "text/x-python",
      "name": "python",
      "nbconvert_exporter": "python",
      "pygments_lexer": "ipython3",
      "version": "3.7.3"
    },
    "colab": {
      "name": "weight_init_amp_optimization.ipynb",
      "provenance": [],
      "collapsed_sections": [],
      "include_colab_link": true
    }
  },
  "cells": [
    {
      "cell_type": "markdown",
      "metadata": {
        "id": "view-in-github",
        "colab_type": "text"
      },
      "source": [
        "<a href=\"https://colab.research.google.com/github/DmitryIo/education/blob/master/weight_init_amp_optimization.ipynb\" target=\"_parent\"><img src=\"https://colab.research.google.com/assets/colab-badge.svg\" alt=\"Open In Colab\"/></a>"
      ]
    },
    {
      "cell_type": "markdown",
      "metadata": {
        "id": "juo_q8SOuqKI",
        "colab_type": "text"
      },
      "source": [
        "# Как инициализировать веса?\n",
        "Сделаем мини исследование"
      ]
    },
    {
      "cell_type": "code",
      "metadata": {
        "id": "szHRpE4IuqKK",
        "colab_type": "code",
        "colab": {}
      },
      "source": [
        "import torch\n",
        "import numpy as np"
      ],
      "execution_count": 0,
      "outputs": []
    },
    {
      "cell_type": "markdown",
      "metadata": {
        "id": "-UUSF3W-v7W3",
        "colab_type": "text"
      },
      "source": [
        "**Normal distribution:**"
      ]
    },
    {
      "cell_type": "markdown",
      "metadata": {
        "id": "9FFc6rgMu1tE",
        "colab_type": "text"
      },
      "source": [
        "![Normal distribution](https://i.imgur.com/x2SyLi6.png)"
      ]
    },
    {
      "cell_type": "code",
      "metadata": {
        "id": "r5B2xPO7uqKT",
        "colab_type": "code",
        "colab": {}
      },
      "source": [
        "стандартизация – (x - x.mean()) / x.std()\n",
        "– приводим данные к виду стандартного нормального распр (mu = 0, sigma^2 = 1)"
      ],
      "execution_count": 0,
      "outputs": []
    },
    {
      "cell_type": "code",
      "metadata": {
        "id": "mFBaw89MuqKb",
        "colab_type": "code",
        "colab": {}
      },
      "source": [
        "var – дисперсия –  sigma^2\n",
        "std – среднеквадратичное отклонение – sigma"
      ],
      "execution_count": 0,
      "outputs": []
    },
    {
      "cell_type": "markdown",
      "metadata": {
        "id": "OO7LyhKzuqKi",
        "colab_type": "text"
      },
      "source": [
        "# y = WX"
      ]
    },
    {
      "cell_type": "code",
      "metadata": {
        "id": "RCp65978uqKk",
        "colab_type": "code",
        "colab": {}
      },
      "source": [
        "# vanishing, exploiding values -> gradients"
      ],
      "execution_count": 0,
      "outputs": []
    },
    {
      "cell_type": "code",
      "metadata": {
        "id": "zxRzZmnVuqKq",
        "colab_type": "code",
        "colab": {}
      },
      "source": [
        "x -> layer_1 -> layer_2 -> .. -> layer_100"
      ],
      "execution_count": 0,
      "outputs": []
    },
    {
      "cell_type": "code",
      "metadata": {
        "id": "NP-DkOleuqK9",
        "colab_type": "code",
        "colab": {}
      },
      "source": [
        "x = torch.randn(128)\n",
        "for i in range(100):\n",
        "    w = torch.randn(128, 128) * (1 / np.sqrt(128))\n",
        "    x = w @ x"
      ],
      "execution_count": 0,
      "outputs": []
    },
    {
      "cell_type": "code",
      "metadata": {
        "id": "QmOD5ZDbuqLC",
        "colab_type": "code",
        "colab": {},
        "outputId": "c769e6cf-21be-4d7d-9b59-8ed50f994dec"
      },
      "source": [
        "print(x.mean().item())\n",
        "print(x.std().item())"
      ],
      "execution_count": 0,
      "outputs": [
        {
          "output_type": "stream",
          "text": [
            "0.008587132208049297\n",
            "0.7051880955696106\n"
          ],
          "name": "stdout"
        }
      ]
    },
    {
      "cell_type": "markdown",
      "metadata": {
        "id": "QtNs61A7wK7t",
        "colab_type": "text"
      },
      "source": [
        "Хотим, чтобы x.mean() стремилось к 0, а std стремилось к 1"
      ]
    },
    {
      "cell_type": "code",
      "metadata": {
        "id": "F2v2qXucuqLI",
        "colab_type": "code",
        "colab": {}
      },
      "source": [
        "m = []\n",
        "v = []\n",
        "for i in range(1000):\n",
        "    x = torch.randn(128)\n",
        "    w = torch.randn(128, 128)* np.sqrt(2 / 128) # такая инициализация позволяет уменьшить проблему взрывающихся градиентов; torch.randn(128,128) * np.sqrt(hyp / n_size), где hyp гиперпараметр(обычно от 2 до 5), а n_size - размерность \n",
        "    y = torch.relu(x @ w)\n",
        "    m.append(y.mean().item())\n",
        "    v.append(y.pow(2).mean().item() - y.mean().item()**2)"
      ],
      "execution_count": 0,
      "outputs": []
    },
    {
      "cell_type": "code",
      "metadata": {
        "id": "Bdbi9RJpuqLQ",
        "colab_type": "code",
        "colab": {}
      },
      "source": [
        "true_mean = np.mean(m)\n",
        "\n",
        "true_var = np.mean(v)"
      ],
      "execution_count": 0,
      "outputs": []
    },
    {
      "cell_type": "code",
      "metadata": {
        "id": "vA6c_8xuuqLW",
        "colab_type": "code",
        "colab": {},
        "outputId": "70dc8509-6fd8-41cc-a9c7-93e10681ca16"
      },
      "source": [
        "print(true_mean)\n",
        "print(np.sqrt(true_var))"
      ],
      "execution_count": 0,
      "outputs": [
        {
          "output_type": "stream",
          "text": [
            "0.5584457634091378\n",
            "0.8173048354267037\n"
          ],
          "name": "stdout"
        }
      ]
    },
    {
      "cell_type": "code",
      "metadata": {
        "id": "S6iMt_x2uqLc",
        "colab_type": "code",
        "colab": {}
      },
      "source": [
        "x = torch.randn(512)\n",
        "# +-sqrt(6 / n + m), n - количество входных фич, m – выходных – glorot, xavier\n",
        "# randn(0, 1) * sqrt(2 / n) – инициализация Каиминга\n",
        " \n",
        "for i in range(100):\n",
        "    w = torch.Tensor(512, 512).uniform_(-1, 1) * np.sqrt(5. / 512)\n",
        "    x = torch.relu(w @ x)"
      ],
      "execution_count": 0,
      "outputs": []
    },
    {
      "cell_type": "code",
      "metadata": {
        "id": "KypXjW2DuqLg",
        "colab_type": "code",
        "colab": {},
        "outputId": "0f72be24-592a-403b-c29b-f4bcbe30c617"
      },
      "source": [
        "x.mean(), x.std()"
      ],
      "execution_count": 0,
      "outputs": [
        {
          "output_type": "execute_result",
          "data": {
            "text/plain": [
              "(tensor(3.0017e-05), tensor(4.6248e-05))"
            ]
          },
          "metadata": {
            "tags": []
          },
          "execution_count": 187
        }
      ]
    },
    {
      "cell_type": "markdown",
      "metadata": {
        "id": "mP24b4cBuqMR",
        "colab_type": "text"
      },
      "source": [
        "# Градиентный спуск\n",
        "$$\\theta_t = \\theta_{t-1} - \\lambda\\frac{\\partial{L(X, Y, \\theta_{t-1})}}{\\partial{\\theta}}$$"
      ]
    },
    {
      "cell_type": "markdown",
      "metadata": {
        "id": "bmUvl9jvuqMS",
        "colab_type": "text"
      },
      "source": [
        "# Стохастический градиентный спуск\n",
        "\n",
        "$$\\theta_t = \\theta_{t-1} - \\lambda\\frac{\\partial{L(x, y, \\theta_{t-1})}}{\\partial{\\theta}}$$\n",
        "\n",
        "В чем отличие от GD?\n",
        "Преимущества и недостатки относительно GD?"
      ]
    },
    {
      "cell_type": "markdown",
      "metadata": {
        "id": "oDMHNld9uqMT",
        "colab_type": "text"
      },
      "source": [
        "# Градиентный спуск по батчам\n",
        "$$\\theta_t = \\theta_{t-1} - \\lambda\\frac{\\partial{L(X_b, Y_b, \\theta_{t-1})}}{\\partial{\\theta}}$$"
      ]
    },
    {
      "cell_type": "markdown",
      "metadata": {
        "id": "6Vi_GqcfuqMT",
        "colab_type": "text"
      },
      "source": [
        "# Моментум\n",
        "$$V_t = \\gamma V_{t-1} + \\lambda\\frac{\\partial{L(x, y, \\theta_{t-1})}}{\\partial{\\theta}}$$\n",
        "\n",
        "\n",
        "$$\\theta_t = \\theta_{t-1} - V_t$$\n",
        "\n",
        "Какие недостатки и преимущества?"
      ]
    },
    {
      "cell_type": "code",
      "metadata": {
        "id": "MGxL7YLPuqMU",
        "colab_type": "code",
        "colab": {}
      },
      "source": [
        "Nesterov Accelerated Gradient"
      ],
      "execution_count": 0,
      "outputs": []
    },
    {
      "cell_type": "markdown",
      "metadata": {
        "id": "jsqTtRtduqMX",
        "colab_type": "text"
      },
      "source": [
        "$$V(t) = \\gamma V_{t-1} + \\lambda\\frac{\\partial{L(x, y, \\theta_{t-1} - \\gamma V_{t-1})}}{\\partial{\\theta}}$$"
      ]
    },
    {
      "cell_type": "markdown",
      "metadata": {
        "id": "sVueWl6YuqMY",
        "colab_type": "text"
      },
      "source": [
        "# Adagrad\n",
        "$$g_{t, i} = \\frac{\\partial{L(x, y, \\theta})}{\\partial{\\theta_{t, i}}}$$ – градиент функции ошибки по параметру $\\theta_i$\n",
        "\n",
        "\n",
        "$$\\theta_{t+1, i} = \\theta_{t, i} - \\frac{\\lambda}{\\sqrt{G_{t, ii} + \\epsilon}} * g_{t, i}$$\n",
        "\n",
        "$$G_{t, ii} = G_{t-1, ii} + g_{t, i}^2$$\n",
        "\n",
        "$G_{t}$ – диагональная матрица, каждый элемент которой – сумма квадратов градиентов соотв параметра i за предыдущие шаги. "
      ]
    },
    {
      "cell_type": "markdown",
      "metadata": {
        "id": "zO14FUv0uqMZ",
        "colab_type": "text"
      },
      "source": [
        "$G_{t, 11}$"
      ]
    },
    {
      "cell_type": "markdown",
      "metadata": {
        "id": "5yHfHHgluqMZ",
        "colab_type": "text"
      },
      "source": [
        "# Adadelta"
      ]
    },
    {
      "cell_type": "markdown",
      "metadata": {
        "id": "0Gb9gZi2uqMa",
        "colab_type": "text"
      },
      "source": [
        "$$G_{t, ii} = \\alpha G_{t-1, ii} + (1 - \\alpha)g_{t, i}^2$$, alpha = 0.9"
      ]
    },
    {
      "cell_type": "code",
      "metadata": {
        "id": "ddxHK9XOuqMa",
        "colab_type": "code",
        "colab": {}
      },
      "source": [
        ""
      ],
      "execution_count": 0,
      "outputs": []
    }
  ]
}